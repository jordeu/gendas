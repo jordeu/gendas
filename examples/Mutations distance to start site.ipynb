{
 "cells": [
  {
   "cell_type": "code",
   "execution_count": 1,
   "metadata": {},
   "outputs": [],
   "source": [
    "%matplotlib inline\n",
    "\n",
    "import logging\n",
    "import matplotlib.pyplot as plt\n",
    "import time\n",
    "import numpy as np\n",
    "\n",
    "from tqdm import tqdm\n",
    "from collections import Counter\n",
    "from functools import partial\n",
    "from gendas.engine import Gendas\n",
    "\n",
    "logging.basicConfig(format='[%(name)s] %(asctime)s %(levelname)s: %(message)s', datefmt='%H:%M:%S', level=logging.INFO)"
   ]
  },
  {
   "cell_type": "code",
   "execution_count": 2,
   "metadata": {},
   "outputs": [],
   "source": [
    "# Function to plot a histrogram from a dictionary of frequencies\n",
    "def hist_from_dict(c):\n",
    "    labels, values = zip(*c.items())\n",
    "    indexes = np.arange(len(labels))\n",
    "    width = 1\n",
    "    plt.bar(indexes, values, width)\n",
    "    plt.xticks(indexes + width * 0.5, labels)\n",
    "    plt.show()"
   ]
  },
  {
   "cell_type": "code",
   "execution_count": 3,
   "metadata": {},
   "outputs": [],
   "source": [
    "# Create a Gendas engine\n",
    "gd = Gendas('data/gendas.conf')"
   ]
  },
  {
   "cell_type": "code",
   "execution_count": 4,
   "metadata": {},
   "outputs": [],
   "source": [
    "# Divide the gene in 'bins' regions and check at what regions is the 'pos' mutation.\n",
    "def compute_bin(pos, begin, end, strand, bins=15):\n",
    "    length = end - begin + 1\n",
    "    relative = pos - begin if strand == '+' else end - pos\n",
    "    return int((relative/length)*bins)"
   ]
  },
  {
   "cell_type": "code",
   "execution_count": 5,
   "metadata": {},
   "outputs": [
    {
     "name": "stderr",
     "output_type": "stream",
     "text": [
      "202it [00:01, 131.87it/s]"
     ]
    },
    {
     "name": "stdout",
     "output_type": "stream",
     "text": [
      "CPU times: user 29.8 ms, sys: 11.8 ms, total: 41.6 ms\n",
      "Wall time: 1.54 s\n"
     ]
    },
    {
     "name": "stderr",
     "output_type": "stream",
     "text": [
      "\n"
     ]
    }
   ],
   "source": [
    "%%time\n",
    "# Compute the 'bins' frequencies of all the observed mutations in the dataset \"variants\"\n",
    "bins_muts = Counter(tqdm(\n",
    "    gd['variants'].merge(gd['exons']).merge(gd['genes'], on=['GENE']).map(\n",
    "        lambda r: compute_bin(\n",
    "            r['variants']['POS'],\n",
    "            r['genes']['BEGIN'],\n",
    "            r['genes']['END'],\n",
    "            r['genes']['STRAND']\n",
    "        )\n",
    "    )\n",
    "))"
   ]
  },
  {
   "cell_type": "code",
   "execution_count": 6,
   "metadata": {},
   "outputs": [
    {
     "data": {
      "image/png": "[encoded data removed]",
      "text/plain": [
       "<Figure size 432x288 with 1 Axes>"
      ]
     },
     "metadata": {
      "needs_background": "light"
     },
     "output_type": "display_data"
    }
   ],
   "source": [
    "hist_from_dict(bins_muts)"
   ]
  },
  {
   "cell_type": "code",
   "execution_count": 7,
   "metadata": {},
   "outputs": [],
   "source": [
    "# Compute 'bins' frequency of all the nucleotides in a exon\n",
    "def compute_exon_bins(r, bins=10):    \n",
    "    start, stop = r['exons']['START'], r['exons']['STOP']\n",
    "    fn = partial(compute_bin, begin=r['genes']['BEGIN'], end=r['genes']['END'], strand=r['genes']['STRAND'])\n",
    "    return Counter(map(fn, range(start, stop+1)))"
   ]
  },
  {
   "cell_type": "code",
   "execution_count": 8,
   "metadata": {},
   "outputs": [
    {
     "name": "stderr",
     "output_type": "stream",
     "text": [
      "118it [00:00, 2411.68it/s]"
     ]
    },
    {
     "name": "stdout",
     "output_type": "stream",
     "text": [
      "CPU times: user 29.8 ms, sys: 196 µs, total: 30 ms\n",
      "Wall time: 56 ms\n"
     ]
    },
    {
     "name": "stderr",
     "output_type": "stream",
     "text": [
      "\n"
     ]
    }
   ],
   "source": [
    "%%time\n",
    "bins_nucleotide = Counter()\n",
    "for c in tqdm(gd['exons'].merge(gd['genes']).map(compute_exon_bins)):\n",
    "    bins_nucleotide += c"
   ]
  },
  {
   "cell_type": "code",
   "execution_count": 9,
   "metadata": {},
   "outputs": [
    {
     "data": {
      "image/png": "[encoded data removed]",
      "text/plain": [
       "<Figure size 432x288 with 1 Axes>"
      ]
     },
     "metadata": {
      "needs_background": "light"
     },
     "output_type": "display_data"
    }
   ],
   "source": [
    "hist_from_dict(bins_nucleotide)"
   ]
  },
  {
   "cell_type": "code",
   "execution_count": 10,
   "metadata": {},
   "outputs": [],
   "source": [
    "# Normalize the observed bins frequency by the exome mapping frequency.\n",
    "bins = {k: bins_muts[k] / bins_nucleotide[k] for k in bins_muts}"
   ]
  },
  {
   "cell_type": "code",
   "execution_count": 11,
   "metadata": {},
   "outputs": [
    {
     "data": {
      "image/png": "[encoded data removed]",
      "text/plain": [
       "<Figure size 432x288 with 1 Axes>"
      ]
     },
     "metadata": {
      "needs_background": "light"
     },
     "output_type": "display_data"
    }
   ],
   "source": [
    "hist_from_dict(bins)"
   ]
  },
  {
   "cell_type": "code",
   "execution_count": null,
   "metadata": {
    "collapsed": true
   },
   "outputs": [],
   "source": []
  }
 ],
 "metadata": {
  "kernelspec": {
   "display_name": "Python [conda env:gendas]",
   "language": "python",
   "name": "conda-env-gendas-py"
  },
  "language_info": {
   "codemirror_mode": {
    "name": "ipython",
    "version": 3
   },
   "file_extension": ".py",
   "mimetype": "text/x-python",
   "name": "python",
   "nbconvert_exporter": "python",
   "pygments_lexer": "ipython3",
   "version": "3.6.6"
  }
 },
 "nbformat": 4,
 "nbformat_minor": 1
}
