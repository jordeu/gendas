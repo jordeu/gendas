{
 "cells": [
  {
   "cell_type": "code",
   "execution_count": 1,
   "metadata": {},
   "outputs": [],
   "source": [
    "import time\n",
    "import logging\n",
    "import pandas as pd\n",
    "\n",
    "from tqdm import tqdm\n",
    "from numpy import mean\n",
    "from numpy.random import choice\n",
    "from gendas.engine import Gendas\n",
    "from gendas.utils import flatten"
   ]
  },
  {
   "cell_type": "code",
   "execution_count": 2,
   "metadata": {},
   "outputs": [
    {
     "name": "stdout",
     "output_type": "stream",
     "text": [
      "\n",
      "[cadd]\n",
      "type = tabix\n",
      "file = cadd_score.tsv.gz\n",
      "header = CHR, POS, REF, ALT, RAW, PHRED\n",
      "ctypes = str, int, str, str, float, float\n",
      "sequence= CHR\n",
      "begin = POS\n",
      "end = POS\n",
      "\n",
      "[variants]\n",
      "type = tabix\n",
      "file = variants.tsv.gz\n",
      "header = CHR, POS, REF, ALT, SAMPLE\n",
      "ctypes = str, int, str, str, str\n",
      "sequence = CHR\n",
      "begin = POS\n",
      "end = POS\n",
      "\n",
      "[tcga]\n",
      "type = tabix\n",
      "file = tcga.txt.gz\n",
      "header = CHR, POS, REF, ALT\n",
      "ctypes = str, int, str, str\n",
      "sequence = CHR\n",
      "begin = POS\n",
      "end = POS\n",
      "\n",
      "\n",
      "[exons]\n",
      "type = tabix\n",
      "file = cds_exons.tsv.gz\n",
      "header = CHR, START, STOP, GENE\n",
      "ctypes = str, int, int, str\n",
      "sequence = CHR\n",
      "begin = START\n",
      "end = STOP\n",
      "indices = GENE,\n",
      "\n",
      "[genes]\n",
      "type = tabix\n",
      "file = cds_annotations.tsv.gz\n",
      "header = CHR, GENE, SYMBOL, BEGIN, END, STRAND\n",
      "ctypes = str, str, str, int, int, str\n",
      "sequence = CHR\n",
      "begin = BEGIN\n",
      "end = END\n"
     ]
    }
   ],
   "source": [
    "%%bash\n",
    "cat data/gendas.conf"
   ]
  },
  {
   "cell_type": "code",
   "execution_count": 3,
   "metadata": {},
   "outputs": [],
   "source": [
    "def functional_score(gd, sampling=100000):\n",
    "    \n",
    "    possible_scores = list(gd['cadd']['PHRED'])\n",
    "    observed_scores = list(gd['tcga'].merge(gd['cadd'], on=['REF', 'ALT'])['cadd']['PHRED'])\n",
    "\n",
    "    if len(observed_scores) == 0:\n",
    "        return 1.0\n",
    "\n",
    "    background = choice(possible_scores, size=(sampling, len(observed_scores))).mean(axis=1)\n",
    "    obs = len(background[background >= mean(observed_scores)])\n",
    "\n",
    "    return max(1, obs) / sampling"
   ]
  },
  {
   "cell_type": "code",
   "execution_count": 4,
   "metadata": {},
   "outputs": [],
   "source": [
    "gd = Gendas('data/gendas.conf')"
   ]
  },
  {
   "cell_type": "code",
   "execution_count": 5,
   "metadata": {},
   "outputs": [
    {
     "name": "stderr",
     "output_type": "stream",
     "text": [
      "100%|██████████| 242/242 [00:34<00:00,  7.00it/s]"
     ]
    },
    {
     "name": "stdout",
     "output_type": "stream",
     "text": [
      "                  PVALUE\n",
      "GENE                    \n",
      "ENSG00000156273  0.00001\n",
      "ENSG00000154654  0.00001\n",
      "ENSG00000157540  0.00001\n",
      "ENSG00000160179  0.00001\n",
      "ENSG00000156304  0.00001\n",
      "ENSG00000159216  0.00001\n",
      "ENSG00000156299  0.00001\n",
      "ENSG00000177692  0.00001\n",
      "ENSG00000185658  0.00001\n",
      "ENSG00000159086  0.00001\n",
      "CPU times: user 368 ms, sys: 25.7 ms, total: 394 ms\n",
      "Wall time: 34.6 s\n"
     ]
    },
    {
     "name": "stderr",
     "output_type": "stream",
     "text": [
      "\n"
     ]
    }
   ],
   "source": [
    "%%time\n",
    "\n",
    "pvalues = gd.groupby(gd['exons']['GENE']).aggregate({\n",
    "    'PVALUE': functional_score\n",
    "})\n",
    "\n",
    "df = pd.DataFrame.from_dict(\n",
    "    flatten(\n",
    "        tqdm(pvalues, total=len(set(gd['exons']['GENE'])))\n",
    "    ), orient='columns').set_index(['GENE'])\n",
    "df = df.sort_values('PVALUE', ascending=True)\n",
    "print(df.head(10))"
   ]
  },
  {
   "cell_type": "code",
   "execution_count": null,
   "metadata": {},
   "outputs": [],
   "source": [
    "len(gd['tcga'])"
   ]
  },
  {
   "cell_type": "code",
   "execution_count": null,
   "metadata": {},
   "outputs": [],
   "source": []
  }
 ],
 "metadata": {
  "kernelspec": {
   "display_name": "Python [conda env:gendas]",
   "language": "python",
   "name": "conda-env-gendas-py"
  },
  "language_info": {
   "codemirror_mode": {
    "name": "ipython",
    "version": 3
   },
   "file_extension": ".py",
   "mimetype": "text/x-python",
   "name": "python",
   "nbconvert_exporter": "python",
   "pygments_lexer": "ipython3",
   "version": "3.6.6"
  }
 },
 "nbformat": 4,
 "nbformat_minor": 2
}
