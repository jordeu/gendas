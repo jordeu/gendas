{
 "cells": [
  {
   "cell_type": "code",
   "execution_count": 1,
   "metadata": {},
   "outputs": [],
   "source": [
    "import time\n",
    "import pandas as pd\n",
    "\n",
    "from collections import defaultdict\n",
    "from tqdm import tqdm\n",
    "from gendas.engine import Gendas\n",
    "from gendas.utils import flatten\n",
    "from gendas.experimental import HG19Source"
   ]
  },
  {
   "cell_type": "code",
   "execution_count": 2,
   "metadata": {},
   "outputs": [
    {
     "name": "stdout",
     "output_type": "stream",
     "text": [
      "\n",
      "[cadd]\n",
      "type = tabix\n",
      "file = cadd_score.tsv.gz\n",
      "header = CHR, POS, REF, ALT, RAW, PHRED\n",
      "ctypes = str, int, str, str, float, float\n",
      "sequence= CHR\n",
      "begin = POS\n",
      "end = POS\n",
      "\n",
      "[variants]\n",
      "type = tabix\n",
      "file = variants.tsv.gz\n",
      "header = CHR, POS, REF, ALT, SAMPLE\n",
      "ctypes = str, int, str, str, str\n",
      "sequence = CHR\n",
      "begin = POS\n",
      "end = POS\n",
      "\n",
      "[tcga]\n",
      "type = tabix\n",
      "file = tcga.txt.gz\n",
      "header = CHR, POS, REF, ALT\n",
      "ctypes = str, int, str, str\n",
      "sequence = CHR\n",
      "begin = POS\n",
      "end = POS\n",
      "\n",
      "\n",
      "[exons]\n",
      "type = tabix\n",
      "file = cds_exons.tsv.gz\n",
      "header = CHR, START, STOP, GENE\n",
      "ctypes = str, int, int, str\n",
      "sequence = CHR\n",
      "begin = START\n",
      "end = STOP\n",
      "indices = GENE,\n",
      "\n",
      "[genes]\n",
      "type = tabix\n",
      "file = cds_annotations.tsv.gz\n",
      "header = CHR, GENE, SYMBOL, BEGIN, END, STRAND\n",
      "ctypes = str, str, str, int, int, str\n",
      "sequence = CHR\n",
      "begin = BEGIN\n",
      "end = END\n"
     ]
    }
   ],
   "source": [
    "%%bash\n",
    "cat data/gendas.conf"
   ]
  },
  {
   "cell_type": "code",
   "execution_count": 3,
   "metadata": {},
   "outputs": [],
   "source": [
    "# Create a Gendas engine\n",
    "gd = Gendas('data/gendas.conf')\n",
    "gd['hg19'] = HG19Source()"
   ]
  },
  {
   "cell_type": "code",
   "execution_count": 4,
   "metadata": {},
   "outputs": [],
   "source": [
    "def mut_rank(gd, baserow):\n",
    "\n",
    "    # Get scores of all the position in this gene group by tri>alt\n",
    "    context = defaultdict(list)\n",
    "    for r in gd['cadd'].merge(gd['hg19']):\n",
    "        key = \"{}>{}\".format(r['hg19'][-1:1], r['cadd']['ALT'])\n",
    "        context[key].append(r['cadd']['PHRED'])\n",
    "\n",
    "    rows = []\n",
    "    for m in gd['variants'].merge(gd['cadd'], on=['REF', 'ALT']).merge(gd['hg19']):\n",
    "\n",
    "        key = \"{}>{}\".format(m['hg19'][-1:1], m['variants']['ALT'])\n",
    "        ctx_scores = context[key]\n",
    "\n",
    "        # Create the output row\n",
    "        row = dict(baserow)\n",
    "        for k, v in m['variants'].items():\n",
    "            row[k] = v\n",
    "\n",
    "        row['KEY'] = key\n",
    "        row['SCORE'] = m['cadd']['PHRED']\n",
    "        row['CONTEXT'] = ctx_scores\n",
    "\n",
    "        rows.append(row)\n",
    "\n",
    "    return rows"
   ]
  },
  {
   "cell_type": "code",
   "execution_count": 5,
   "metadata": {
    "scrolled": false
   },
   "outputs": [
    {
     "name": "stderr",
     "output_type": "stream",
     "text": [
      "100%|██████████| 242/242 [00:05<00:00, 42.01it/s]\n"
     ]
    },
    {
     "name": "stdout",
     "output_type": "stream",
     "text": [
      "CPU times: user 406 ms, sys: 27.4 ms, total: 434 ms\n",
      "Wall time: 5.8 s\n"
     ]
    }
   ],
   "source": [
    "%%time\n",
    "data = pd.DataFrame.from_dict(\n",
    "    flatten(\n",
    "        tqdm(gd.groupby(gd['exons']['GENE']).aggregate(mut_rank), total=len(set(gd['exons']['GENE'])))\n",
    "    ), orient='columns'\n",
    ")"
   ]
  },
  {
   "cell_type": "code",
   "execution_count": 6,
   "metadata": {},
   "outputs": [
    {
     "data": {
      "text/plain": [
       "{0: {'GENE': 'ENSG00000154639', 'CONTEXT': [], 'KEY': 'TT>C'}}"
      ]
     },
     "execution_count": 6,
     "metadata": {},
     "output_type": "execute_result"
    }
   ],
   "source": [
    "data[['GENE', 'CONTEXT', 'KEY']].head(1).to_dict(orient='index')"
   ]
  },
  {
   "cell_type": "code",
   "execution_count": 7,
   "metadata": {},
   "outputs": [
    {
     "data": {
      "text/plain": [
       "6085"
      ]
     },
     "execution_count": 7,
     "metadata": {},
     "output_type": "execute_result"
    }
   ],
   "source": [
    "len(data)"
   ]
  },
  {
   "cell_type": "code",
   "execution_count": null,
   "metadata": {
    "collapsed": true
   },
   "outputs": [],
   "source": []
  }
 ],
 "metadata": {
  "kernelspec": {
   "display_name": "Python [conda env:gendas]",
   "language": "python",
   "name": "conda-env-gendas-py"
  },
  "language_info": {
   "codemirror_mode": {
    "name": "ipython",
    "version": 3
   },
   "file_extension": ".py",
   "mimetype": "text/x-python",
   "name": "python",
   "nbconvert_exporter": "python",
   "pygments_lexer": "ipython3",
   "version": "3.6.6"
  }
 },
 "nbformat": 4,
 "nbformat_minor": 1
}
